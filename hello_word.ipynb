{
 "cells": [
  {
   "attachments": {},
   "cell_type": "markdown",
   "metadata": {},
   "source": [
    "# This is a sample Jupyter notebook for Binder"
   ]
  },
  {
   "cell_type": "code",
   "execution_count": null,
   "metadata": {},
   "outputs": [],
   "source": [
    "import pyscf\n",
    "print(pyscf.__version__)"
   ]
  },
  {
   "cell_type": "code",
   "execution_count": null,
   "metadata": {},
   "outputs": [],
   "source": [
    "from qiskit import QuantumCircuit, Aer\n",
    "\n",
    "sim = Aer.get_backend('aer_simulator')\n",
    "\n",
    "circuit = QuantumCircuit(2)\n",
    "\n",
    "circuit.x(0)\n",
    "circuit.h(0)\n",
    "circuit.cnot(0,1)\n",
    "\n",
    "#circuit.measure_all()\n",
    "circuit.save_statevector()\n",
    "circuit.draw()\n",
    "\n",
    "print(\"Circuit:\\n\", circuit)\n",
    "\n",
    "state = sim.run(circuit).result().get_statevector()\n",
    "print(\"State of Measured Qubit = \" + str(state))"
   ]
  }
 ],
 "metadata": {
  "language_info": {
   "name": "python"
  },
  "orig_nbformat": 4
 },
 "nbformat": 4,
 "nbformat_minor": 2
}
